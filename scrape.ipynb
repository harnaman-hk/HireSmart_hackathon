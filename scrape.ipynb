{
 "cells": [
  {
   "cell_type": "code",
   "execution_count": 2,
   "id": "abstract-collar",
   "metadata": {},
   "outputs": [],
   "source": [
    "from selenium import webdriver"
   ]
  },
  {
   "cell_type": "code",
   "execution_count": 6,
   "id": "secure-assistant",
   "metadata": {},
   "outputs": [],
   "source": [
    "browser = webdriver.Firefox()\n",
    "url = 'https://www.hackerearth.com/@lboris/followers/'\n",
    "browser.get('https://www.hackerearth.com/@lboris')\n",
    "browser.implicitly_wait(20)\n",
    "\n",
    "login_element = browser.find_element_by_link_text('Log in')\n",
    "login_element.click()\n",
    "usrname = browser.find_element_by_id(\"id_login\")\n",
    "pwd = browser.find_element_by_id(\"id_password\")\n",
    "\n",
    "usrname.send_keys(\"hostxyz1\")\n",
    "pwd.send_keys(\"hackhack\")\n",
    "submit_btn = browser.find_element_by_name(\"submit\")\n",
    "pwd.send_keys(u'\\ue007')\n",
    "\n",
    "followers_element = browser.find_element_by_link_text('Followers')\n",
    "followers_element.click()\n",
    "\n",
    "# # now on the followers page\n",
    "data = {}\n",
    "\n",
    "# # scroll to get all followers in visible frame\n",
    "# view_more_btn = browser.find_element_by_xpath(\"//a[contains(@class, 'load-scroll-content button btn-blue hidden')]\")\n",
    "# scroll_end = browser.find_element_by_xpath(\"//p[contains(@class, 'no-scroll-content-message body-font gray-text hidden')]\")\n",
    "\n",
    "# while not scroll_end.is_displayed():\n",
    "#     try:\n",
    "#         view_more_btn.click()\n",
    "#     except Exception as e:\n",
    "#         pass\n",
    "\n",
    "# scrape followers\n",
    "all_followers = browser.find_elements_by_xpath(\"//a[contains(@class, 'track-follower-user regular dark weight-600')]\")\n",
    "\n",
    "for i, follower in enumerate(all_followers):\n",
    "    data[i] = {}\n",
    "    data[i][\"name\"] = follower.text\n",
    "    data[i][\"profile_link\"] = follower.get_attribute(\"href\")\n",
    "    \n",
    "for i in data:\n",
    "    try:\n",
    "        browser.get(data[i][\"profile_link\"])\n",
    "        skills = browser.find_element_by_xpath(\"//div[contains(@class, 'attributes regular dark')]\")\n",
    "        data[i][\"skills\"] = skills.text\n",
    "        current_job = browser.find_element_by_xpath(\"//span[contains(@class, 'text')]\")\n",
    "        data[i][\"cuurent_job\"] = current_job.text\n",
    "        browser.implicitly_wait(20)\n",
    "    \n",
    "    except Exception as e:\n",
    "        pass\n",
    "\n",
    "# followr = browser.find_element_by_xpath(\"//a[contains(@class, 'track-follower-user regular dark weight-600')]\")\n",
    "# followr.click()\n",
    "\n",
    "# skills = browser.find_element_by_xpath(\"//div[contains(@class, 'attributes regular dark')]\")\n",
    "# print(skills.text)\n",
    "\n",
    "# current_job = browser.find_element_by_xpath(\"//span[contains(@class, 'text')]\")\n",
    "# print(current_job.text)"
   ]
  },
  {
   "cell_type": "code",
   "execution_count": 12,
   "id": "wooden-license",
   "metadata": {},
   "outputs": [],
   "source": [
    "import json\n",
    "\n",
    "with open(\"scrapeddata_hackerearth.json\", 'w') as f:\n",
    "    json.dump(data, f)"
   ]
  },
  {
   "cell_type": "code",
   "execution_count": null,
   "id": "centered-paradise",
   "metadata": {},
   "outputs": [],
   "source": []
  }
 ],
 "metadata": {
  "kernelspec": {
   "display_name": "Python 3",
   "language": "python",
   "name": "python3"
  },
  "language_info": {
   "codemirror_mode": {
    "name": "ipython",
    "version": 3
   },
   "file_extension": ".py",
   "mimetype": "text/x-python",
   "name": "python",
   "nbconvert_exporter": "python",
   "pygments_lexer": "ipython3",
   "version": "3.8.5"
  }
 },
 "nbformat": 4,
 "nbformat_minor": 5
}
